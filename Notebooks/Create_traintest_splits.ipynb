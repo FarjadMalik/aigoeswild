{
 "cells": [
  {
   "cell_type": "code",
   "execution_count": 3,
   "id": "competent-baptist",
   "metadata": {},
   "outputs": [],
   "source": [
    "import pandas as pd\n",
    "import os"
   ]
  },
  {
   "cell_type": "code",
   "execution_count": 4,
   "id": "typical-israeli",
   "metadata": {},
   "outputs": [
    {
     "name": "stdout",
     "output_type": "stream",
     "text": [
      "Images df head: \n",
      "                          file_path_rel  encoded_species\n",
      "0  S9/B03/B03_R1/S9_B03_R1_IMAG0250.JPG                1\n",
      "1  S9/B03/B03_R1/S9_B03_R1_IMAG0251.JPG                1\n",
      "2  S9/B03/B03_R1/S9_B03_R1_IMAG0252.JPG                1\n",
      "3  S9/B03/B03_R1/S9_B03_R1_IMAG0256.JPG                1\n",
      "4  S9/B03/B03_R1/S9_B03_R1_IMAG0258.JPG                1\n",
      "Number of images: 193978\n"
     ]
    }
   ],
   "source": [
    "# This is where our downloaded images and metadata live locally\n",
    "DATA_PATH = r'C:\\\\Users\\\\mfarj\\\\Documents\\\\ss_data\\\\'\n",
    "dataset_path = os.path.join(DATA_PATH, 'train_species_only_singles.csv')\n",
    "images_df = pd.read_csv(dataset_path)\n",
    "print(f'Images df head: \\n{images_df.head()}')\n",
    "print(f'Number of images: {len(images_df)}')"
   ]
  },
  {
   "cell_type": "code",
   "execution_count": 31,
   "id": "competitive-trance",
   "metadata": {},
   "outputs": [
    {
     "data": {
      "text/plain": "Empty DataFrame\nColumns: [file_path_rel, encoded_species, capture_id]\nIndex: []",
      "text/html": "<div>\n<style scoped>\n    .dataframe tbody tr th:only-of-type {\n        vertical-align: middle;\n    }\n\n    .dataframe tbody tr th {\n        vertical-align: top;\n    }\n\n    .dataframe thead th {\n        text-align: right;\n    }\n</style>\n<table border=\"1\" class=\"dataframe\">\n  <thead>\n    <tr style=\"text-align: right;\">\n      <th></th>\n      <th>file_path_rel</th>\n      <th>encoded_species</th>\n      <th>capture_id</th>\n    </tr>\n  </thead>\n  <tbody>\n  </tbody>\n</table>\n</div>"
     },
     "execution_count": 31,
     "metadata": {},
     "output_type": "execute_result"
    }
   ],
   "source": [
    "images_df['capture_id'] = images_df.file_path_rel.str.split('/').str[-1]\n",
    "multiple_captures = images_df[images_df.duplicated(['capture_id'])]\n",
    "multiple_captures.head()"
   ]
  },
  {
   "cell_type": "code",
   "execution_count": 7,
   "outputs": [
    {
     "name": "stderr",
     "output_type": "stream",
     "text": [
      "C:\\Users\\mfarj\\.conda\\envs\\thesis\\lib\\site-packages\\IPython\\core\\interactiveshell.py:3165: DtypeWarning: Columns (8,12) have mixed types.Specify dtype option on import or set low_memory=False.\n",
      "  has_raised = await self.run_ast_nodes(code_ast.body, cell_name,\n"
     ]
    },
    {
     "name": "stdout",
     "output_type": "stream",
     "text": [
      "Annotated Sequences: 2659222\n",
      "Unique Sequences: 2659222\n",
      "SER_S1     411414\n",
      "SER_S10    685481\n",
      "SER_S11    499401\n",
      "SER_S2     573200\n",
      "SER_S3     392507\n",
      "SER_S4     531554\n",
      "SER_S5     827224\n",
      "SER_S6     462846\n",
      "SER_S7     832153\n",
      "SER_S8     980256\n",
      "SER_S9     982404\n",
      "Name: season, dtype: int64\n"
     ]
    }
   ],
   "source": [
    "df_full_images = pd.read_csv(DATA_PATH + '\\SnapshotSerengeti_v2_1_images.csv')\n",
    "df_full_annotations = pd.read_csv(DATA_PATH + '\\SnapshotSerengeti_v2_1_annotations.csv')\n",
    "df_full_images.rename(columns = {'Unnamed: 0':'seq_id'}, inplace=True)\n",
    "df_full_images.index = df_full_images.capture_id\n",
    "df_full_annotations.rename(columns = {'Unnamed: 0':'seq_id'}, inplace=True)\n",
    "\n",
    "print('Annotated Sequences: ' + str(df_full_annotations.capture_id.nunique()))\n",
    "# number of sequences\n",
    "print('Unique Sequences: ' + str(df_full_images.capture_id.nunique()))\n",
    "\n",
    "#reduce to first frame only for all sequences. Not doing this now and taking all the images in\n",
    "#df_full_images = df_full_images.sort_values('file_name').groupby('seq_id').first()\n",
    "\n",
    "df_full_images['season'] = df_full_images.capture_id.map(lambda x: x.split('#')[0])\n",
    "\n",
    "print(f'{df_full_images.season.value_counts().sort_index()}')\n",
    "\n",
    "df_full_annotations.groupby(['question__species'])['seq_id'].count()\n",
    "\n",
    "\n",
    "df_full_annotations.groupby(['question__species'])['seq_id'].count()\n",
    "\n",
    "df_full_images = df_full_images[df_full_images.season.isin(['SER_S9'])]\n",
    "df_full_annotations = df_full_annotations[df_full_annotations.capture_id.isin(df_full_images.capture_id)]\n",
    "#\n",
    "# ss_data_host = str('https://lilablobssc.blob.core.windows.net/snapshotserengeti-unzipped')\n",
    "# ss_data_authentication = str('?st=2020-01-01T00%3A00%3A00Z&se=2034-01-01T00%3A00%3A00Z&sp=rl&sv=2019-07-07&sr=c&sig=/DGPd%2B9WGFt6HgkemDFpo2n0M1htEXvTq9WoHlaH7L4%3D')\n",
    "#\n",
    "# df_full_images['file_name'] = df_full_images.apply(\n",
    "#     lambda x: (ss_data_host + str(f'/{x.image_path_rel}') + ss_data_authentication), axis=1\n",
    "# )\n"
   ],
   "metadata": {
    "collapsed": false,
    "pycharm": {
     "name": "#%%\n"
    }
   }
  },
  {
   "cell_type": "code",
   "execution_count": 11,
   "outputs": [
    {
     "data": {
      "text/plain": "                seq_id      capture_id  image_rank_in_capture  \\\ncapture_id                                                      \nSER_S9#B03#1#1       0  SER_S9#B03#1#1                      1   \nSER_S9#B03#1#1       1  SER_S9#B03#1#1                      2   \nSER_S9#B03#1#2       2  SER_S9#B03#1#2                      1   \nSER_S9#B03#1#3       3  SER_S9#B03#1#3                      1   \nSER_S9#B03#1#3       4  SER_S9#B03#1#3                      2   \n\n                                      image_path_rel  season  \\\ncapture_id                                                     \nSER_S9#B03#1#1  S9/B03/B03_R1/S9_B03_R1_IMAG0001.JPG  SER_S9   \nSER_S9#B03#1#1  S9/B03/B03_R1/S9_B03_R1_IMAG0002.JPG  SER_S9   \nSER_S9#B03#1#2  S9/B03/B03_R1/S9_B03_R1_IMAG0003.JPG  SER_S9   \nSER_S9#B03#1#3  S9/B03/B03_R1/S9_B03_R1_IMAG0004.JPG  SER_S9   \nSER_S9#B03#1#3  S9/B03/B03_R1/S9_B03_R1_IMAG0005.JPG  SER_S9   \n\n                            image_name  \ncapture_id                              \nSER_S9#B03#1#1  S9_B03_R1_IMAG0001.JPG  \nSER_S9#B03#1#1  S9_B03_R1_IMAG0002.JPG  \nSER_S9#B03#1#2  S9_B03_R1_IMAG0003.JPG  \nSER_S9#B03#1#3  S9_B03_R1_IMAG0004.JPG  \nSER_S9#B03#1#3  S9_B03_R1_IMAG0005.JPG  ",
      "text/html": "<div>\n<style scoped>\n    .dataframe tbody tr th:only-of-type {\n        vertical-align: middle;\n    }\n\n    .dataframe tbody tr th {\n        vertical-align: top;\n    }\n\n    .dataframe thead th {\n        text-align: right;\n    }\n</style>\n<table border=\"1\" class=\"dataframe\">\n  <thead>\n    <tr style=\"text-align: right;\">\n      <th></th>\n      <th>seq_id</th>\n      <th>capture_id</th>\n      <th>image_rank_in_capture</th>\n      <th>image_path_rel</th>\n      <th>season</th>\n      <th>image_name</th>\n    </tr>\n    <tr>\n      <th>capture_id</th>\n      <th></th>\n      <th></th>\n      <th></th>\n      <th></th>\n      <th></th>\n      <th></th>\n    </tr>\n  </thead>\n  <tbody>\n    <tr>\n      <th>SER_S9#B03#1#1</th>\n      <td>0</td>\n      <td>SER_S9#B03#1#1</td>\n      <td>1</td>\n      <td>S9/B03/B03_R1/S9_B03_R1_IMAG0001.JPG</td>\n      <td>SER_S9</td>\n      <td>S9_B03_R1_IMAG0001.JPG</td>\n    </tr>\n    <tr>\n      <th>SER_S9#B03#1#1</th>\n      <td>1</td>\n      <td>SER_S9#B03#1#1</td>\n      <td>2</td>\n      <td>S9/B03/B03_R1/S9_B03_R1_IMAG0002.JPG</td>\n      <td>SER_S9</td>\n      <td>S9_B03_R1_IMAG0002.JPG</td>\n    </tr>\n    <tr>\n      <th>SER_S9#B03#1#2</th>\n      <td>2</td>\n      <td>SER_S9#B03#1#2</td>\n      <td>1</td>\n      <td>S9/B03/B03_R1/S9_B03_R1_IMAG0003.JPG</td>\n      <td>SER_S9</td>\n      <td>S9_B03_R1_IMAG0003.JPG</td>\n    </tr>\n    <tr>\n      <th>SER_S9#B03#1#3</th>\n      <td>3</td>\n      <td>SER_S9#B03#1#3</td>\n      <td>1</td>\n      <td>S9/B03/B03_R1/S9_B03_R1_IMAG0004.JPG</td>\n      <td>SER_S9</td>\n      <td>S9_B03_R1_IMAG0004.JPG</td>\n    </tr>\n    <tr>\n      <th>SER_S9#B03#1#3</th>\n      <td>4</td>\n      <td>SER_S9#B03#1#3</td>\n      <td>2</td>\n      <td>S9/B03/B03_R1/S9_B03_R1_IMAG0005.JPG</td>\n      <td>SER_S9</td>\n      <td>S9_B03_R1_IMAG0005.JPG</td>\n    </tr>\n  </tbody>\n</table>\n</div>"
     },
     "execution_count": 11,
     "metadata": {},
     "output_type": "execute_result"
    }
   ],
   "source": [
    "df_full_images['image_name'] = df_full_images.image_path_rel.str.split('/').str[-1]\n",
    "df_full_images.head()"
   ],
   "metadata": {
    "collapsed": false,
    "pycharm": {
     "name": "#%%\n"
    }
   }
  },
  {
   "cell_type": "code",
   "execution_count": 17,
   "outputs": [
    {
     "name": "stdout",
     "output_type": "stream",
     "text": [
      "Columns: Index(['seq_id_x', 'capture_id', 'image_rank_in_capture', 'image_path_rel',\n",
      "       'season_x', 'image_name', 'seq_id_y', 'season_y', 'site', 'roll',\n",
      "       'capture', 'capture_date_local', 'capture_time_local', 'subject_id',\n",
      "       'question__species', 'question__count_max', 'question__count_median',\n",
      "       'question__count_min', 'question__standing', 'question__resting',\n",
      "       'question__moving', 'question__eating', 'question__interacting',\n",
      "       'question__young_present', 'p_users_identified_this_species',\n",
      "       'pielous_evenness_index', 'question__horns_visible'],\n",
      "      dtype='object')\n",
      "Question species: capture_id\n",
      "SER_S9#B03#1#1       blank\n",
      "SER_S9#B03#1#1       blank\n",
      "SER_S9#B03#1#10      blank\n",
      "SER_S9#B03#1#10      blank\n",
      "SER_S9#B03#1#10      blank\n",
      "                    ...   \n",
      "SER_S9#U11#1#6       human\n",
      "SER_S9#U11#1#6       human\n",
      "SER_S9#U11#1#7     cheetah\n",
      "SER_S9#U11#1#8       blank\n",
      "SER_S9#U11#1#9       blank\n",
      "Name: question__species, Length: 991858, dtype: object\n"
     ]
    }
   ],
   "source": [
    "df_full = df_full_images.join(df_full_annotations.set_index('capture_id'), how='inner', on=None, lsuffix='_x', rsuffix='_y')\n",
    "\n",
    "print(f'Columns: {df_full.columns}')\n",
    "print(f\"Question species: {df_full['question__species']}\")"
   ],
   "metadata": {
    "collapsed": false,
    "pycharm": {
     "name": "#%%\n"
    }
   }
  },
  {
   "cell_type": "code",
   "execution_count": 19,
   "outputs": [
    {
     "data": {
      "text/plain": "217848"
     },
     "execution_count": 19,
     "metadata": {},
     "output_type": "execute_result"
    }
   ],
   "source": [
    "df_full = df_full.loc[~df_full.question__species.str.contains('blank')]\n",
    "len(df_full)"
   ],
   "metadata": {
    "collapsed": false,
    "pycharm": {
     "name": "#%%\n"
    }
   }
  },
  {
   "cell_type": "code",
   "execution_count": 24,
   "outputs": [
    {
     "name": "stdout",
     "output_type": "stream",
     "text": [
      "Index(['seq_id_x', 'capture_id_x', 'image_rank_in_capture', 'image_path_rel',\n",
      "       'season_x', 'image_name', 'seq_id_y', 'season_y', 'site', 'roll',\n",
      "       'capture', 'capture_date_local', 'capture_time_local', 'subject_id',\n",
      "       'question__species', 'question__count_max', 'question__count_median',\n",
      "       'question__count_min', 'question__standing', 'question__resting',\n",
      "       'question__moving', 'question__eating', 'question__interacting',\n",
      "       'question__young_present', 'p_users_identified_this_species',\n",
      "       'pielous_evenness_index', 'question__horns_visible', 'file_path_rel',\n",
      "       'encoded_species', 'capture_id_y'],\n",
      "      dtype='object')\n"
     ]
    }
   ],
   "source": [
    "df_missing_left = pd.merge(df_full, images_df, how='left', left_on= \"image_name\", right_on=\"capture_id\")\n",
    "print(df_missing_left.columns)"
   ],
   "metadata": {
    "collapsed": false,
    "pycharm": {
     "name": "#%%\n"
    }
   }
  },
  {
   "cell_type": "code",
   "execution_count": 26,
   "outputs": [
    {
     "name": "stdout",
     "output_type": "stream",
     "text": [
      "DF MISSING:    seq_id_x      capture_id_x  image_rank_in_capture season_x  subject_id  \\\n",
      "0       249  SER_S9#B03#1#101                      1   SER_S9  ASG001j6xd   \n",
      "1       250  SER_S9#B03#1#101                      2   SER_S9  ASG001j6xd   \n",
      "2       251  SER_S9#B03#1#101                      3   SER_S9  ASG001j6xd   \n",
      "3       255  SER_S9#B03#1#103                      1   SER_S9  ASG001j6xe   \n",
      "4       256  SER_S9#B03#1#103                      2   SER_S9  ASG001j6xe   \n",
      "\n",
      "  question__species                         file_path_rel  encoded_species  \\\n",
      "0        wildebeest  S9/B03/B03_R1/S9_B03_R1_IMAG0250.JPG              1.0   \n",
      "1        wildebeest  S9/B03/B03_R1/S9_B03_R1_IMAG0251.JPG              1.0   \n",
      "2        wildebeest  S9/B03/B03_R1/S9_B03_R1_IMAG0252.JPG              1.0   \n",
      "3        wildebeest  S9/B03/B03_R1/S9_B03_R1_IMAG0256.JPG              1.0   \n",
      "4        wildebeest                                   NaN              NaN   \n",
      "\n",
      "             capture_id_y  \n",
      "0  S9_B03_R1_IMAG0250.JPG  \n",
      "1  S9_B03_R1_IMAG0251.JPG  \n",
      "2  S9_B03_R1_IMAG0252.JPG  \n",
      "3  S9_B03_R1_IMAG0256.JPG  \n",
      "4                     NaN  \n",
      "DF MISSING columns: Index(['seq_id_x', 'capture_id_x', 'image_rank_in_capture', 'season_x',\n",
      "       'subject_id', 'question__species', 'file_path_rel', 'encoded_species',\n",
      "       'capture_id_y'],\n",
      "      dtype='object')\n"
     ]
    }
   ],
   "source": [
    "df_missing_left = df_missing_left[['seq_id_x', 'capture_id_x', 'image_rank_in_capture', 'season_x', 'subject_id', 'question__species', 'file_path_rel', 'encoded_species', 'capture_id_y']]\n",
    "print(f'DF MISSING: {df_missing_left.head()}')\n",
    "print(f'DF MISSING columns: {df_missing_left.columns}')"
   ],
   "metadata": {
    "collapsed": false,
    "pycharm": {
     "name": "#%%\n"
    }
   }
  },
  {
   "cell_type": "code",
   "execution_count": 29,
   "outputs": [
    {
     "name": "stdout",
     "output_type": "stream",
     "text": [
      "DF MISSING:      seq_id_x      capture_id_x  image_rank_in_capture season_x  subject_id  \\\n",
      "4         256  SER_S9#B03#1#103                      2   SER_S9  ASG001j6xe   \n",
      "279         2    SER_S9#B03#1#2                      1   SER_S9  ASG001lfjx   \n",
      "347        56   SER_S9#B03#1#24                      1   SER_S9  ASG001i812   \n",
      "348        56   SER_S9#B03#1#24                      1   SER_S9  ASG001i812   \n",
      "349        57   SER_S9#B03#1#24                      2   SER_S9  ASG001i812   \n",
      "\n",
      "    question__species file_path_rel  encoded_species capture_id_y  \n",
      "4          wildebeest           NaN              NaN          NaN  \n",
      "279             human           NaN              NaN          NaN  \n",
      "347        wildebeest           NaN              NaN          NaN  \n",
      "348             zebra           NaN              NaN          NaN  \n",
      "349        wildebeest           NaN              NaN          NaN  \n",
      "DF MISSING columns: Index(['seq_id_x', 'capture_id_x', 'image_rank_in_capture', 'season_x',\n",
      "       'subject_id', 'question__species', 'file_path_rel', 'encoded_species',\n",
      "       'capture_id_y'],\n",
      "      dtype='object')\n"
     ]
    }
   ],
   "source": [
    "df_missing= df_missing_left[df_missing_left.isnull().any(axis=1)]\n",
    "print(f'DF MISSING: {df_missing.head()}')\n",
    "print(f'DF MISSING columns: {df_missing.columns}')"
   ],
   "metadata": {
    "collapsed": false,
    "pycharm": {
     "name": "#%%\n"
    }
   }
  },
  {
   "cell_type": "code",
   "execution_count": null,
   "outputs": [],
   "source": [],
   "metadata": {
    "collapsed": false,
    "pycharm": {
     "name": "#%%\n"
    }
   }
  }
 ],
 "metadata": {
  "kernelspec": {
   "name": "thesis",
   "language": "python",
   "display_name": "thesis"
  },
  "language_info": {
   "codemirror_mode": {
    "name": "ipython",
    "version": 3
   },
   "file_extension": ".py",
   "mimetype": "text/x-python",
   "name": "python",
   "nbconvert_exporter": "python",
   "pygments_lexer": "ipython3",
   "version": "3.7.9"
  }
 },
 "nbformat": 4,
 "nbformat_minor": 5
}