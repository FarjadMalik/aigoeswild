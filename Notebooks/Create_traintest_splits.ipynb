{
 "cells": [
  {
   "cell_type": "code",
   "execution_count": 1,
   "id": "competent-baptist",
   "metadata": {},
   "outputs": [],
   "source": [
    "import pandas as pd"
   ]
  },
  {
   "cell_type": "code",
   "execution_count": 5,
   "id": "typical-israeli",
   "metadata": {},
   "outputs": [
    {
     "name": "stdout",
     "output_type": "stream",
     "text": [
      "Images df head: \n",
      "                          file_path_rel  encoded_species\n",
      "0  S9/B03/B03_R1/S9_B03_R1_IMAG0250.JPG                1\n",
      "1  S9/B03/B03_R1/S9_B03_R1_IMAG0251.JPG                1\n",
      "2  S9/B03/B03_R1/S9_B03_R1_IMAG0252.JPG                1\n",
      "3  S9/B03/B03_R1/S9_B03_R1_IMAG0256.JPG                1\n",
      "4  S9/B03/B03_R1/S9_B03_R1_IMAG0258.JPG                1\n",
      "Number of images: 193978\n"
     ]
    }
   ],
   "source": [
    "dataset_path = r'E:\\ss_data\\train_species_only_singles.csv'\n",
    "images_df = pd.read_csv(dataset_path)\n",
    "print(f'Images df head: \\n{images_df.head()}')\n",
    "print(f'Number of images: {len(images_df)}')"
   ]
  },
  {
   "cell_type": "code",
   "execution_count": 14,
   "id": "competitive-trance",
   "metadata": {},
   "outputs": [
    {
     "data": {
      "text/html": [
       "<div>\n",
       "<style scoped>\n",
       "    .dataframe tbody tr th:only-of-type {\n",
       "        vertical-align: middle;\n",
       "    }\n",
       "\n",
       "    .dataframe tbody tr th {\n",
       "        vertical-align: top;\n",
       "    }\n",
       "\n",
       "    .dataframe thead th {\n",
       "        text-align: right;\n",
       "    }\n",
       "</style>\n",
       "<table border=\"1\" class=\"dataframe\">\n",
       "  <thead>\n",
       "    <tr style=\"text-align: right;\">\n",
       "      <th></th>\n",
       "      <th>file_path_rel</th>\n",
       "      <th>encoded_species</th>\n",
       "      <th>capture_id</th>\n",
       "    </tr>\n",
       "  </thead>\n",
       "  <tbody>\n",
       "  </tbody>\n",
       "</table>\n",
       "</div>"
      ],
      "text/plain": [
       "Empty DataFrame\n",
       "Columns: [file_path_rel, encoded_species, capture_id]\n",
       "Index: []"
      ]
     },
     "execution_count": 14,
     "metadata": {},
     "output_type": "execute_result"
    }
   ],
   "source": [
    "images_df['capture_id'] = images_df.file_path_rel.str.split('/').str[-1]\n",
    "multiple_captures = images_df[images_df.duplicated(['capture_id'])]\n",
    "images_df."
   ]
  }
 ],
 "metadata": {
  "kernelspec": {
   "display_name": "Python 3",
   "language": "python",
   "name": "python3"
  },
  "language_info": {
   "codemirror_mode": {
    "name": "ipython",
    "version": 3
   },
   "file_extension": ".py",
   "mimetype": "text/x-python",
   "name": "python",
   "nbconvert_exporter": "python",
   "pygments_lexer": "ipython3",
   "version": "3.7.9"
  }
 },
 "nbformat": 4,
 "nbformat_minor": 5
}
